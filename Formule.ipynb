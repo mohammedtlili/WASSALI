{
  "nbformat": 4,
  "nbformat_minor": 0,
  "metadata": {
    "colab": {
      "name": "Formule",
      "provenance": [],
      "collapsed_sections": []
    },
    "kernelspec": {
      "name": "python3",
      "display_name": "Python 3"
    },
    "language_info": {
      "name": "python"
    }
  },
  "cells": [
    {
      "cell_type": "code",
      "execution_count": null,
      "metadata": {
        "id": "UOiY9Hxj8PIa"
      },
      "outputs": [],
      "source": [
        "TK:float;\n",
        "TH:float;\n",
        "TJ:float;\n",
        "credit:bool; \n",
        "total:float;\n",
        "s:float;\n",
        "s=0;\n",
        "Nbre_Klm:float;\n",
        "Nbre_Klm=0;\n",
        "credit='';\n",
        "a:str;\n",
        "b:str;\n",
        "c:str;\n",
        "d:str;\n",
        "a='';\n",
        "b='';\n",
        "c='';\n",
        "d='';\n",
        "\n"
      ]
    },
    {
      "cell_type": "code",
      "source": [
        "Nbre_Klm = float(input(\"Quel est le nombre de klm parcouru ? \"));\n",
        "temps_trajet = float(input(\"Quel est le temps en service ? \"));\n",
        "temps_attente = float(input(\"Quel est le temps d'attente ? \"));\n"
      ],
      "metadata": {
        "colab": {
          "base_uri": "https://localhost:8080/"
        },
        "id": "_hYGRGwIAdF7",
        "outputId": "0769494a-47d1-4d9e-8e7b-309088b455e7"
      },
      "execution_count": null,
      "outputs": [
        {
          "name": "stdout",
          "output_type": "stream",
          "text": [
            "Quel est le nombre de klm parcouru ? 142\n",
            "Quel est le temps en service ? 2.12\n",
            "Quel est le temps d'attente ? 1.5\n"
          ]
        }
      ]
    },
    {
      "cell_type": "code",
      "source": [
        "Temps_service = temps_trajet + temps_attente;\n",
        "print( Temps_service );\n"
      ],
      "metadata": {
        "colab": {
          "base_uri": "https://localhost:8080/"
        },
        "id": "rIdU332dDGX0",
        "outputId": "be5ec532-f0ec-4e02-cdbe-af9ed7efe237"
      },
      "execution_count": null,
      "outputs": [
        {
          "output_type": "stream",
          "name": "stdout",
          "text": [
            "3.62\n"
          ]
        }
      ]
    },
    {
      "cell_type": "code",
      "source": [
        "print(\" a: partner \\n b: fourgon ou bien camionnette \\n c: camionnette2 \\n d: poids lourds\\n\")\n",
        "vihecule = str(input(\"Quel est le type de votre vehicule ? \"))\n",
        "if(vihecule == \"a\"):\n",
        "  print(\"votre vehicule est une partner\")\n",
        "else:\n",
        "  if(vihecule == \"b\"):\n",
        "    print(\"votre vehicule est un fourgon ou bien camionnette\")\n",
        "  else:\n",
        "    if(vihecule == \"c\"):\n",
        "       print(\"votre vehicule est une camionnette2\")\n",
        "    else:\n",
        "      if(vihecule == \"d\"):\n",
        "        print(\"votre vehicule est de type poids lourds\")\n",
        "      else: print(\"Reponse invalide\")\n"
      ],
      "metadata": {
        "colab": {
          "base_uri": "https://localhost:8080/"
        },
        "id": "7Cj9SA_RO_lI",
        "outputId": "210460c3-8610-45c2-c9bf-25041f6559c9"
      },
      "execution_count": null,
      "outputs": [
        {
          "output_type": "stream",
          "name": "stdout",
          "text": [
            " a: partner \n",
            " b: fourgon ou bien camionnette \n",
            " c: camionnette2 \n",
            " d: poids lourds\n",
            "\n",
            "Quel est le type de votre vehicule ? b\n",
            "votre vehicule est un fourgon ou bien camionnette\n"
          ]
        }
      ]
    },
    {
      "cell_type": "code",
      "source": [
        "\n",
        "credit_vihecule = str(input(\"Tapez OUI si votre vehicule est en credit si non tapez NON \\n \"))\n",
        "if (credit_vihecule == (\"oui\")):\n",
        " credit = True\n",
        " print(\"vihecule en credit :\", credit)\n",
        "else:\n",
        "  if (credit_vihecule == \"non\"):\n",
        "    credit = False\n",
        "    print(\"vihecule en comptant : \", credit)\n",
        "  else : print(\"réponse incorrecte\")\n",
        "\n"
      ],
      "metadata": {
        "colab": {
          "base_uri": "https://localhost:8080/"
        },
        "id": "J0jpHXTiJ8Nq",
        "outputId": "77a327e1-1f0c-4b82-8700-b373e3ba2001"
      },
      "execution_count": null,
      "outputs": [
        {
          "output_type": "stream",
          "name": "stdout",
          "text": [
            "Tapez OUI si votre vehicule est en credit si non tapez NON \n",
            " non\n",
            "vihecule en comptant :  False\n"
          ]
        }
      ]
    },
    {
      "cell_type": "code",
      "source": [
        "if ((credit  == True) and (vihecule == \"a\" )):\n",
        "  TK = 0.14435 * Nbre_Klm;\n",
        "  TH = (temps_trajet + temps_attente) * 3.7;\n",
        "  TJ = (Temps_service * 119.3) / 8.43;\n",
        "  print(TK)\n",
        "  print(TH)\n",
        "  print(TJ)\n",
        "  total = TK+TH+TJ\n",
        "  print(\"Total = \", total);\n",
        "else:\n",
        "  if ((credit  == False) and (vihecule == \"a\" )):\n",
        "    TK = 0.14435 * Nbre_Klm;\n",
        "    TH = (temps_trajet + temps_attente) * 3.7;\n",
        "    TJ = (Temps_service * 87.96) / 8.43;\n",
        "    print(TK)\n",
        "    print(TH)\n",
        "    print(TJ)\n",
        "    total = TK+TH+TJ\n",
        "    print(\"Total = \", total)\n",
        "  else:\n",
        "      if ((credit  == True) and (vihecule == \"b\" )):\n",
        "        TK = 0.23005 * Nbre_Klm;\n",
        "        TH = (temps_trajet + temps_attente) * 3.7;\n",
        "        TJ = (Temps_service * 201.03 ) / 8.43;\n",
        "        print(TK)\n",
        "        print(TH)\n",
        "        print(TJ)\n",
        "        total = TK+TH+TJ\n",
        "        print(\"Total = \", total);\n",
        "      else:\n",
        "        if ((credit  == False) and (vihecule == \"b\" )):\n",
        "          TK = 0.23005  * Nbre_Klm;\n",
        "          TH = (temps_trajet + temps_attente) * 3.7;\n",
        "          TJ = (Temps_service * 138.35) / 8.43;\n",
        "          print(TK)\n",
        "          print(TH)\n",
        "          print(TJ)\n",
        "          total = TK+TH+TJ\n",
        "          print(\"Total = \", total)\n",
        "        else:\n",
        "          if ((credit  == True) and (vihecule == \"c\" )):\n",
        "            TK = 0.28505  * Nbre_Klm;\n",
        "            TH = (temps_trajet + temps_attente) * 3.7;\n",
        "            TJ = (Temps_service * 214.16 ) / 8.43;\n",
        "            print(TK)\n",
        "            print(TH)\n",
        "            print(TJ)\n",
        "            total = TK+TH+TJ\n",
        "            print(\"Total = \", total);\n",
        "          else:\n",
        "            if ((credit  == False) and (vihecule == \"c\" )):\n",
        "             TK = 0.23005  * Nbre_Klm;\n",
        "             TH = (temps_trajet + temps_attente) * 3.7;\n",
        "             TJ = (Temps_service * 182.72) / 8.43;\n",
        "             print(TK)\n",
        "             print(TH)\n",
        "             print(TJ)\n",
        "             total = TK+TH+TJ\n",
        "             print(\"Total = \", total)\n",
        "            else:\n",
        "              if ((credit  == True) and (vihecule == \"d\" )):\n",
        "                TK = 0.7106  * Nbre_Klm;\n",
        "                TH = (temps_trajet + temps_attente) * 3.7;\n",
        "                TJ = (Temps_service * 320.52 ) / 8.43;\n",
        "                print(TK)\n",
        "                print(TH)\n",
        "                print(TJ)\n",
        "                total = TK+TH+TJ\n",
        "                print(\"Total = \", total);\n",
        "              else:\n",
        "                if ((credit  == False) and (vihecule == \"d\" )):\n",
        "                 TK = 0.7106  * Nbre_Klm;\n",
        "                 TH = (temps_trajet + temps_attente) * 3.7;\n",
        "                 TJ = (Temps_service * 226.5) / 8.43;\n",
        "                 print(TK)\n",
        "                 print(TH)\n",
        "                 print(TJ)\n",
        "                 total = TK+TH+TJ\n",
        "                 print(\"Total = \", total)\n",
        "                else: print(\"vérifiez les champs\")\n",
        " \n",
        "\n"
      ],
      "metadata": {
        "colab": {
          "base_uri": "https://localhost:8080/"
        },
        "id": "tIM9mQFvB5v6",
        "outputId": "10b4cf2e-a982-4096-b01d-032ccd45fa90"
      },
      "execution_count": null,
      "outputs": [
        {
          "output_type": "stream",
          "name": "stdout",
          "text": [
            "32.6671\n",
            "13.394000000000002\n",
            "59.41008303677343\n",
            "Total =  105.47118303677343\n"
          ]
        }
      ]
    },
    {
      "cell_type": "code",
      "source": [
        "print(\"prix conseilé est :\", total*1.2)"
      ],
      "metadata": {
        "id": "3eS0lWcF5n6T",
        "colab": {
          "base_uri": "https://localhost:8080/"
        },
        "outputId": "1fe347bb-5156-4bdb-8975-e8458385898b"
      },
      "execution_count": null,
      "outputs": [
        {
          "output_type": "stream",
          "name": "stdout",
          "text": [
            "prix conseilé est : 126.5654196441281\n"
          ]
        }
      ]
    },
    {
      "cell_type": "code",
      "source": [
        ""
      ],
      "metadata": {
        "id": "oxbd60GTXwRa"
      },
      "execution_count": null,
      "outputs": []
    }
  ]
}